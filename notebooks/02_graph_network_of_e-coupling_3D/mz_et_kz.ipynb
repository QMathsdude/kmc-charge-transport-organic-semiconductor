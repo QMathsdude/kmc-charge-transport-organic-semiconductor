{
 "cells": [
  {
   "cell_type": "markdown",
   "id": "1f88b9e6",
   "metadata": {},
   "source": [
    "# Code here"
   ]
  },
  {
   "cell_type": "code",
   "execution_count": 24,
   "id": "350c043b",
   "metadata": {},
   "outputs": [
    {
     "name": "stdout",
     "output_type": "stream",
     "text": [
      "   res_id res_name atom_name  atom_id      x      y      z      Vx      Vy  \\\n",
      "0       1      HK4       H28        1  1.602  0.962  0.912 -0.0935  0.8795   \n",
      "1       1      HK4       C48        2  1.565  0.879  0.852 -0.2814 -0.6983   \n",
      "2       1      HK4       C47        3  1.655  0.809  0.773  0.4154  0.1398   \n",
      "3       1      HK4       H27        4  1.754  0.855  0.756  0.1277  0.7999   \n",
      "4       1      HK4       C46        5  1.603  0.717  0.683 -0.0655  0.7587   \n",
      "\n",
      "       Vz  \n",
      "0 -2.1573  \n",
      "1  0.0954  \n",
      "2  0.1445  \n",
      "3  0.2091  \n",
      "4 -0.2231  \n",
      "title: mol only system in water\n",
      "number of atoms: 126084\n",
      "box_dimensions: ['11.24798', '11.24798', '11.24798']\n"
     ]
    }
   ],
   "source": [
    "import pandas as pd\n",
    "\n",
    "colspecs = [\n",
    "    (0, 5),\n",
    "    (5, 8),\n",
    "    (8, 15),\n",
    "    (15, 20),\n",
    "    (20, 28),\n",
    "    (28, 36),\n",
    "    (36, 44),\n",
    "    (44, 52),\n",
    "    (52, 60),\n",
    "    (60, 68),\n",
    "]\n",
    "\n",
    "names = [\"res_id\", \"res_name\", \"atom_name\", \"atom_id\", \"x\", \"y\", \"z\", \"Vx\", \"Vy\", \"Vz\"]\n",
    "\n",
    "data = pd.read_fwf(\n",
    "    \"../../data/npt-HK4.gro\",\n",
    "    colspecs=colspecs,\n",
    "    names=names,\n",
    "    skiprows=2,\n",
    "    skipfooter=1,\n",
    ")\n",
    "\n",
    "with open(\"../../data/npt-HK4.gro\", 'r') as f:\n",
    "    title = f.readline().strip()\n",
    "    num_atoms = f.readline().strip()\n",
    "\n",
    "    for line in f:\n",
    "        pass\n",
    "    box_dimensions = line.strip().split()\n",
    "\n",
    "\n",
    "print(data.head())\n",
    "print(f\"title: {title}\")\n",
    "print(f\"number of atoms: {num_atoms}\")\n",
    "print(f\"box_dimensions: {box_dimensions}\")\n",
    "\n",
    "\n"
   ]
  }
 ],
 "metadata": {
  "kernelspec": {
   "display_name": "kmc",
   "language": "python",
   "name": "python3"
  },
  "language_info": {
   "codemirror_mode": {
    "name": "ipython",
    "version": 3
   },
   "file_extension": ".py",
   "mimetype": "text/x-python",
   "name": "python",
   "nbconvert_exporter": "python",
   "pygments_lexer": "ipython3",
   "version": "3.13.5"
  }
 },
 "nbformat": 4,
 "nbformat_minor": 5
}
