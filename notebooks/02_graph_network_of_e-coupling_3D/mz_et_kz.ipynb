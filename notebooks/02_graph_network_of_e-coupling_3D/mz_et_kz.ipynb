{
 "cells": [
  {
   "cell_type": "markdown",
   "id": "1f88b9e6",
   "metadata": {},
   "source": [
    "# Code here"
   ]
  },
  {
   "cell_type": "code",
   "execution_count": 6,
   "id": "350c043b",
   "metadata": {},
   "outputs": [
    {
     "name": "stdout",
     "output_type": "stream",
     "text": [
      "        res_id res_name atom_name  atom_id      x      y      z      Vx  \\\n",
      "126079    1501      HK4       H23    26080  0.953  5.984  1.494 -1.2440   \n",
      "126080    1501      HK4       C44    26081  0.736  6.009  1.525  0.1513   \n",
      "126081    1501      HK4       H24    26082  0.707  6.041  1.425  0.3100   \n",
      "126082    1501      HK4       C45    26083  0.632  5.988  1.615 -0.0110   \n",
      "126083    1501      HK4       H25    26084  0.542  6.051  1.607 -0.7669   \n",
      "\n",
      "            Vy      Vz  \n",
      "126079  0.1068 -0.7226  \n",
      "126080  0.5200  0.5632  \n",
      "126081  2.4172  1.1123  \n",
      "126082 -0.1637  0.2235  \n",
      "126083 -0.9514  2.2265  \n",
      "Title: mol only system in water\n",
      "Number of atoms: 126084\n",
      "Box dimensions: 11.24798  11.24798  11.24798\n"
     ]
    }
   ],
   "source": [
    "# imports\n",
    "import pandas as pd\n",
    "\n",
    "#setting column specifications\n",
    "colspecs = [\n",
    "    (0, 5),\n",
    "    (5, 8),\n",
    "    (8, 15),\n",
    "    (15, 20),\n",
    "    (20, 28),\n",
    "    (28, 36),\n",
    "    (36, 44),\n",
    "    (44, 52),\n",
    "    (52, 60),\n",
    "    (60, 68),\n",
    "]\n",
    "\n",
    "#setting names of columns\n",
    "names = [\"res_id\", \"res_name\", \"atom_name\", \"atom_id\", \"x\", \"y\", \"z\", \"Vx\", \"Vy\", \"Vz\"]\n",
    "\n",
    "#reading data\n",
    "data = pd.read_fwf(\n",
    "    \"../../data/npt-HK4.gro\",\n",
    "    colspecs=colspecs,\n",
    "    names=names,\n",
    "    skiprows=2,\n",
    "    skipfooter=1,\n",
    ")\n",
    "\n",
    "#reading Title, number of atoms and box_dimensions\n",
    "with open(\"../../data/npt-HK4.gro\", \"rb\") as f:\n",
    "    title = f.readline().decode().strip() #First line of .gro file\n",
    "    num_atoms = f.readline().decode().strip() #Second line of .gro file\n",
    "\n",
    "    #Last line of file\n",
    "    f.seek(-2, 2)\n",
    "    while f.read(1) != b\"\\n\":\n",
    "        f.seek(-2, 1)\n",
    "    box_dimensions = f.readline().decode().strip()\n",
    "\n",
    "\n",
    "print(data.tail())\n",
    "print(f\"Title: {title}\")\n",
    "print(f\"Number of atoms: {num_atoms}\")\n",
    "print(f\"Box dimensions: {box_dimensions}\")"
   ]
  }
 ],
 "metadata": {
  "kernelspec": {
   "display_name": "kmc",
   "language": "python",
   "name": "python3"
  },
  "language_info": {
   "codemirror_mode": {
    "name": "ipython",
    "version": 3
   },
   "file_extension": ".py",
   "mimetype": "text/x-python",
   "name": "python",
   "nbconvert_exporter": "python",
   "pygments_lexer": "ipython3",
   "version": "3.13.5"
  }
 },
 "nbformat": 4,
 "nbformat_minor": 5
}
