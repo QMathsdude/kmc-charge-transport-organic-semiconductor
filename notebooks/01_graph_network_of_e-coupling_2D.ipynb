{
 "cells": [
  {
   "cell_type": "markdown",
   "id": "7f0c9dc6",
   "metadata": {},
   "source": [
    "# Code Goes Here"
   ]
  },
  {
   "cell_type": "code",
   "execution_count": 1,
   "id": "ebce6315",
   "metadata": {},
   "outputs": [
    {
     "name": "stdout",
     "output_type": "stream",
     "text": [
      "Hello dunia\n"
     ]
    }
   ],
   "source": [
    "print(\"Hello dunia\")"
   ]
  },
  {
   "cell_type": "code",
   "execution_count": null,
   "id": "ec056363",
   "metadata": {},
   "outputs": [
    {
     "name": "stdout",
     "output_type": "stream",
     "text": [
      "Title: mol only system in water\n",
      "Number of atoms: 126084\n",
      "99999th atom: {'res_id': 1191, 'res_name': 'HK4', 'atom_name': 'C13', 'atom_id': 99999, 'x': 1.262, 'y': 5.595, 'z': 5.683}\n",
      "10000th atom: {'res_id': 1191, 'res_name': 'HK4', 'atom_name': 'H6', 'atom_id': 100000, 'x': 1.329, 'y': 5.673, 'z': 5.723}\n",
      "10001th atom: {'res_id': 1191, 'res_name': 'HK4', 'atom_name': 'C7', 'atom_id': 100001, 'x': 1.056, 'y': 5.248, 'z': 5.556}\n",
      "Box Dimensions: (11.24798, 11.24798, 11.24798)\n"
     ]
    }
   ],
   "source": [
    "# imports\n",
    "import networkx as nx\n",
    "import numpy as np\n",
    "import matplotlib.pyplot as plt\n",
    "\n",
    "\n",
    "# read npt-HK4.gro file\n",
    "def read_gro_file(filename):\n",
    "    with open(filename, \"r\") as f:\n",
    "        # read title line\n",
    "        title = f.readline().strip()\n",
    "\n",
    "        # Read number of atoms\n",
    "        num_atoms = int(f.readline().strip())\n",
    "\n",
    "        atoms_data = []\n",
    "        previous_atom_id = 0\n",
    "        for _ in range(num_atoms):\n",
    "            line = f.readline().rstrip()\n",
    "\n",
    "            # Parsing info\n",
    "            res_id = int(line[0:5])\n",
    "            res_name = line[5:8].strip()\n",
    "            atom_name = line[12:15].strip()\n",
    "\n",
    "            atom_id = int(line[15:20].strip())\n",
    "            # Problem: after atom id 99999, it reverts back to 0. The following solves this:\n",
    "            if previous_atom_id >= 99999:\n",
    "                atom_id = previous_atom_id + 1\n",
    "            previous_atom_id = atom_id\n",
    "\n",
    "            x = float(line[20:28].strip())\n",
    "            y = float(line[28:36].strip())\n",
    "            z = float(line[36:44].strip())\n",
    "\n",
    "            atoms_data.append(\n",
    "                {\n",
    "                    \"res_id\": res_id,\n",
    "                    \"res_name\": res_name,\n",
    "                    \"atom_name\": atom_name,\n",
    "                    \"atom_id\": atom_id,\n",
    "                    \"x\": x,\n",
    "                    \"y\": y,\n",
    "                    \"z\": z,\n",
    "                }\n",
    "            )\n",
    "\n",
    "        # Read box dimensions\n",
    "        box_line = f.readline().strip().split()\n",
    "\n",
    "        box_x = float(box_line[0])\n",
    "        box_y = float(box_line[1])\n",
    "        box_z = float(box_line[2])\n",
    "\n",
    "    return title, num_atoms, atoms_data, (box_x, box_y, box_z)\n",
    "\n",
    "\n",
    "title, num_atoms, atoms, box = read_gro_file(\n",
    "    \"C:/Users/user/OneDrive/Documents/intern-stuff/git/kmc-charge-transport-organic-semiconductor/data/npt-HK4.gro\"\n",
    ")\n",
    "\n",
    "print(f\"Title: {title}\")\n",
    "print(f\"Number of atoms: {num_atoms}\")\n",
    "print(f\"99999th atom: {atoms[99998]}\")\n",
    "print(f\"10000th atom: {atoms[99999]}\")\n",
    "print(f\"10001th atom: {atoms[100000]}\")\n",
    "print(f\"Box Dimensions: {box}\")"
   ]
  },
  {
   "cell_type": "code",
   "execution_count": 7,
   "id": "6ef99d62",
   "metadata": {},
   "outputs": [
    {
     "data": {
      "image/png": "[encoded data removed]",
      "text/plain": [
       "<Figure size 640x480 with 1 Axes>"
      ]
     },
     "metadata": {},
     "output_type": "display_data"
    }
   ],
   "source": [
    "# Creating nodes\n",
    "G = nx.Graph()\n",
    "\n",
    "unique_res_id = set(d[\"res_id\"] for d in atoms)\n",
    "# print(unique_res_id)\n",
    "\n",
    "G.add_nodes_from(unique_res_id)\n",
    "\n",
    "\n",
    "subax1 = plt.subplot(111)\n",
    "nx.draw(G, with_labels=False, font_weight=\"bold\", node_size = 1)\n",
    "plt.show()"
   ]
  }
 ],
 "metadata": {
  "kernelspec": {
   "display_name": "kmc",
   "language": "python",
   "name": "python3"
  },
  "language_info": {
   "codemirror_mode": {
    "name": "ipython",
    "version": 3
   },
   "file_extension": ".py",
   "mimetype": "text/x-python",
   "name": "python",
   "nbconvert_exporter": "python",
   "pygments_lexer": "ipython3",
   "version": "3.13.5"
  }
 },
 "nbformat": 4,
 "nbformat_minor": 5
}
